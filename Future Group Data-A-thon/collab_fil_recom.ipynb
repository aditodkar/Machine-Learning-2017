{
 "cells": [
  {
   "cell_type": "code",
   "execution_count": null,
   "metadata": {
    "collapsed": false,
    "deletable": true,
    "editable": true
   },
   "outputs": [],
   "source": [
    "## load libraries\n",
    "import pandas as pd\n",
    "import numpy as np\n",
    "from sklearn.preprocessing import LabelEncoder\n",
    "import scipy.sparse as sps\n",
    "import warnings\n",
    "warnings.filterwarnings('ignore')\n",
    "from tqdm import tqdm"
   ]
  },
  {
   "cell_type": "code",
   "execution_count": null,
   "metadata": {
    "collapsed": true,
    "deletable": true,
    "editable": true
   },
   "outputs": [],
   "source": [
    "# load product and sample file\n",
    "products = pd.read_csv('products.csv')"
   ]
  },
  {
   "cell_type": "code",
   "execution_count": null,
   "metadata": {
    "collapsed": true,
    "deletable": true,
    "editable": true
   },
   "outputs": [],
   "source": [
    "sample = pd.read_csv('sampleSubmission.csv')"
   ]
  },
  {
   "cell_type": "code",
   "execution_count": null,
   "metadata": {
    "collapsed": false,
    "deletable": true,
    "editable": true
   },
   "outputs": [],
   "source": [
    "sample.head()"
   ]
  },
  {
   "cell_type": "code",
   "execution_count": 7,
   "metadata": {
    "collapsed": false,
    "deletable": true,
    "editable": true
   },
   "outputs": [
    {
     "data": {
      "text/plain": [
       "False"
      ]
     },
     "execution_count": 7,
     "metadata": {},
     "output_type": "execute_result"
    }
   ],
   "source": [
    "'BBID_20410043' in sample['customerID']"
   ]
  },
  {
   "cell_type": "code",
   "execution_count": 8,
   "metadata": {
    "collapsed": false,
    "deletable": true,
    "editable": true
   },
   "outputs": [
    {
     "data": {
      "text/plain": [
       "165055"
      ]
     },
     "execution_count": 8,
     "metadata": {},
     "output_type": "execute_result"
    }
   ],
   "source": [
    "\n",
    "## number of unique customers\n",
    "products['customerID'].nunique()"
   ]
  },
  {
   "cell_type": "code",
   "execution_count": 9,
   "metadata": {
    "collapsed": true,
    "deletable": true,
    "editable": true
   },
   "outputs": [],
   "source": [
    "products['transactionDate'] = pd.to_datetime(products['transactionDate'])\n",
    "mask = (products['transactionDate'] >= '2016-01-01')\n",
    "products = products.loc[mask]"
   ]
  },
  {
   "cell_type": "code",
   "execution_count": 10,
   "metadata": {
    "collapsed": true,
    "deletable": true,
    "editable": true
   },
   "outputs": [],
   "source": [
    "\n",
    "products.sort_values('transactionDate',inplace=True)\n",
    "products = products.reset_index(drop=True)"
   ]
  },
  {
   "cell_type": "code",
   "execution_count": 11,
   "metadata": {
    "collapsed": true,
    "deletable": true,
    "editable": true
   },
   "outputs": [],
   "source": [
    "## take only those customers which are in sample submission file\n",
    "products_2 = products[products['customerID'].isin(sample['customerID'])]\n",
    "\n",
    "## remove missing values # 4\n",
    "products_2 = products_2[~pd.isnull(products_2['product_code'])]\n",
    "\n",
    "## convert type of product code\n",
    "products_2['product_code'] = products_2['product_code'].astype(np.int64)"
   ]
  },
  {
   "cell_type": "code",
   "execution_count": 12,
   "metadata": {
    "collapsed": true,
    "deletable": true,
    "editable": true
   },
   "outputs": [],
   "source": [
    "\n",
    "products_2 = products_2.loc[:,['customerID','product_code']]\n",
    "products_2 = products_2.reset_index(drop=True)"
   ]
  },
  {
   "cell_type": "code",
   "execution_count": 13,
   "metadata": {
    "collapsed": true,
    "deletable": true,
    "editable": true
   },
   "outputs": [],
   "source": [
    "## these customers are not in train, so we'll predict None for them at last\n",
    "misfit_customers = list(set(sample['customerID']) - set(products_2['customerID']))"
   ]
  },
  {
   "cell_type": "code",
   "execution_count": 14,
   "metadata": {
    "collapsed": true,
    "deletable": true,
    "editable": true
   },
   "outputs": [],
   "source": [
    "## create product list by customers\n",
    "products_2 = products_2.groupby('customerID')['product_code'].apply(lambda x: x.tolist()).reset_index()"
   ]
  },
  {
   "cell_type": "code",
   "execution_count": 15,
   "metadata": {
    "collapsed": true,
    "deletable": true,
    "editable": true
   },
   "outputs": [],
   "source": [
    "## remove duplicate products\n",
    "products_2['product_code'] = products_2['product_code'].map(lambda x: list(set(x)))"
   ]
  },
  {
   "cell_type": "code",
   "execution_count": 16,
   "metadata": {
    "collapsed": true,
    "deletable": true,
    "editable": true
   },
   "outputs": [],
   "source": [
    "## fix product max len to 20 (we'll pick the last 20 i.e most recent ones)\n",
    "products_2['product_code'] = products_2['product_code'].map(lambda x: x[-20:])"
   ]
  },
  {
   "cell_type": "code",
   "execution_count": 17,
   "metadata": {
    "collapsed": true,
    "deletable": true,
    "editable": true
   },
   "outputs": [],
   "source": [
    "### create a list of customers & products\n",
    "\n",
    "customerIDs = []\n",
    "product_codes = []\n",
    "\n",
    "for index, row in products_2.iterrows():\n",
    "    #if index % 10 == 0:\n",
    "    #    print (index)\n",
    "    ls_len = len(row['product_code'])\n",
    "    customerIDs.extend(np.repeat(row['customerID'], ls_len))\n",
    "    product_codes.extend(row['product_code'])"
   ]
  },
  {
   "cell_type": "code",
   "execution_count": 18,
   "metadata": {
    "collapsed": true,
    "deletable": true,
    "editable": true
   },
   "outputs": [],
   "source": [
    "\n",
    "## encode values \n",
    "\n",
    "from sklearn.preprocessing import LabelEncoder\n",
    "\n",
    "lbl = LabelEncoder() ## for customers\n",
    "customerIDs = lbl.fit_transform(customerIDs)\n",
    " \n",
    "lbl2 = LabelEncoder() ## for products\n",
    "product_codes = lbl2.fit_transform(product_codes)"
   ]
  },
  {
   "cell_type": "code",
   "execution_count": 19,
   "metadata": {
    "collapsed": true,
    "deletable": true,
    "editable": true
   },
   "outputs": [],
   "source": [
    "\n",
    "n_unique_users = len(set(customerIDs))\n",
    "n_unique_products = len(set(product_codes))\n",
    "\n",
    "row = customerIDs\n",
    "col = product_codes\n",
    "\n",
    "vals = np.repeat(1, len(row))\n",
    "\n",
    "## this matrix has information about a user bought which all products.\n",
    "user_product_matrix = sps.csr_matrix((vals, (row, col)), shape=(n_unique_users, n_unique_products))\n",
    "\n",
    "## this matrix has information a product got bought along with which other products, and how many times\n",
    "product_cooccurence_matrix = (user_product_matrix.T * user_product_matrix)\n",
    "\n",
    "## set diagonal equals to zero since we are not interested in knowing the count of a product with itself\n",
    "product_cooccurence_matrix.setdiag(np.repeat(0, product_cooccurence_matrix.shape[0]))"
   ]
  },
  {
   "cell_type": "code",
   "execution_count": 20,
   "metadata": {
    "collapsed": true,
    "deletable": true,
    "editable": true
   },
   "outputs": [],
   "source": [
    "\n",
    "## create a data frame of encoded values\n",
    "product_summary = pd.DataFrame({'customerID':customerIDs, 'product_code':product_codes})\n",
    "product_summary = product_summary.groupby('customerID')['product_code'].agg(lambda x:x.tolist()).reset_index().rename(columns = {0:'product_collection'})"
   ]
  },
  {
   "cell_type": "code",
   "execution_count": 21,
   "metadata": {
    "collapsed": true,
    "deletable": true,
    "editable": true
   },
   "outputs": [],
   "source": [
    "\n",
    "## how many recommendation to make\n",
    "def take_top_(x):\n",
    "    if x >= 20:\n",
    "        return 1\n",
    "    else:\n",
    "        if x < 20:\n",
    "            return int(np.round(20/x))\n",
    "        \n",
    "## get count of products per customer\n",
    "product_summary['len_collection'] = product_summary['product_collection'].map(len)\n",
    "\n",
    "## if a customer has 20 products in the list, we'll take 1 top most product per each product\n",
    "product_summary['take_top'] = product_summary['len_collection'].map(lambda x: take_top_(x))"
   ]
  },
  {
   "cell_type": "code",
   "execution_count": 22,
   "metadata": {
    "collapsed": true,
    "deletable": true,
    "editable": true
   },
   "outputs": [],
   "source": [
    "## recommendation function\n",
    "def recommend_affinity(user):\n",
    "    \n",
    "    products_ = product_summary[product_summary['customerID'] == user]['product_collection'].iloc[0] # returns list\n",
    "    take_top_ = product_summary[product_summary['customerID'] == user]['take_top'].iloc[0]\n",
    "    \n",
    "    recs = []\n",
    "    \n",
    "    if take_top_ == 0:\n",
    "        return recs\n",
    "    \n",
    "    ## here we get the list of products which were bought the maximum number of times along with a particular productr\n",
    "    for tt in products_:\n",
    "        s = np.squeeze(np.asarray(product_cooccurence_matrix[tt].todense())) ## list of products bought with counts` with that product\n",
    "        ll = s.argsort()[-int(take_top_):][::-1]\n",
    "        recs.append(list(ll))\n",
    "\n",
    "    recs = list(np.vstack(recs).flatten('F'))\n",
    " \n",
    "    if not recs:\n",
    "        return recs\n",
    "    \n",
    "    return recs"
   ]
  },
  {
   "cell_type": "code",
   "execution_count": null,
   "metadata": {
    "collapsed": true,
    "deletable": true,
    "editable": true
   },
   "outputs": [],
   "source": [
    "\n",
    "## recommendation for customers\n",
    "unique_customers = []\n",
    "\n",
    "for i in sample['customerID']:\n",
    "    if i not in misfit_customers:\n",
    "        unique_customers.append(i)\n",
    "\n",
    "unique_customers = lbl.fit_transform(unique_customers)"
   ]
  },
  {
   "cell_type": "code",
   "execution_count": null,
   "metadata": {
    "collapsed": false,
    "deletable": true,
    "editable": true
   },
   "outputs": [
    {
     "name": "stderr",
     "output_type": "stream",
     "text": [
      " 16%|███████████▌                                                             | 4446/28192 [1:27:25<7:46:57,  1.18s/it]"
     ]
    }
   ],
   "source": [
    "\n",
    "from collections import defaultdict\n",
    "out_dict = defaultdict(list)\n",
    "\n",
    "nulls = []\n",
    "\n",
    "for user in tqdm(unique_customers): #[:50]): ## i took first 50 customers. \n",
    "    rec = recommend_affinity(user)\n",
    "    if not rec:\n",
    "        nulls.append(user)\n",
    "    out_dict[user] = rec\n",
    "#     if i% 10 == 0:\n",
    "#         print(i)"
   ]
  },
  {
   "cell_type": "code",
   "execution_count": 24,
   "metadata": {
    "collapsed": true,
    "deletable": true,
    "editable": true
   },
   "outputs": [],
   "source": [
    "## get unique items per customer\n",
    "from collections import defaultdict\n",
    "\n",
    "out_dict_2 = defaultdict(list)\n",
    "\n",
    "for k,v in out_dict.items():\n",
    "    out_dict_2[k] = list(set(v))\n"
   ]
  },
  {
   "cell_type": "code",
   "execution_count": 25,
   "metadata": {
    "collapsed": true,
    "deletable": true,
    "editable": true
   },
   "outputs": [],
   "source": [
    "## convert key values to inverse customer codes\n",
    "\n",
    "customer_codes = list(lbl.inverse_transform(customerIDs))\n",
    "customer_maps = dict(zip(list(customerIDs), list(customer_codes)))"
   ]
  },
  {
   "cell_type": "code",
   "execution_count": 26,
   "metadata": {
    "collapsed": true,
    "deletable": true,
    "editable": true
   },
   "outputs": [],
   "source": [
    "\n",
    "out_dict_3 = defaultdict(list)\n",
    "\n",
    "for k,v in out_dict_2.items():\n",
    "    out_dict_3[customer_maps[k]] = out_dict_2[k]"
   ]
  },
  {
   "cell_type": "code",
   "execution_count": 27,
   "metadata": {
    "collapsed": true,
    "deletable": true,
    "editable": true
   },
   "outputs": [],
   "source": [
    "mis_dict = defaultdict(list)\n",
    "\n",
    "for i in misfit_customers:\n",
    "    mis_dict[i] = list(np.repeat('None', 20))\n",
    "    "
   ]
  },
  {
   "cell_type": "code",
   "execution_count": 28,
   "metadata": {
    "collapsed": true,
    "deletable": true,
    "editable": true
   },
   "outputs": [],
   "source": [
    "out_dict_3.update(mis_dict)"
   ]
  },
  {
   "cell_type": "code",
   "execution_count": 29,
   "metadata": {
    "collapsed": true,
    "deletable": true,
    "editable": true
   },
   "outputs": [],
   "source": [
    "submission = pd.DataFrame(list(out_dict_3.items()), columns=['customerID','products'])"
   ]
  },
  {
   "cell_type": "code",
   "execution_count": 30,
   "metadata": {
    "collapsed": false,
    "deletable": true,
    "editable": true
   },
   "outputs": [
    {
     "data": {
      "text/html": [
       "<div>\n",
       "<style>\n",
       "    .dataframe thead tr:only-child th {\n",
       "        text-align: right;\n",
       "    }\n",
       "\n",
       "    .dataframe thead th {\n",
       "        text-align: left;\n",
       "    }\n",
       "\n",
       "    .dataframe tbody tr th {\n",
       "        vertical-align: top;\n",
       "    }\n",
       "</style>\n",
       "<table border=\"1\" class=\"dataframe\">\n",
       "  <thead>\n",
       "    <tr style=\"text-align: right;\">\n",
       "      <th></th>\n",
       "      <th>customerID</th>\n",
       "      <th>products</th>\n",
       "    </tr>\n",
       "  </thead>\n",
       "  <tbody>\n",
       "    <tr>\n",
       "      <th>0</th>\n",
       "      <td>BBID_204107517</td>\n",
       "      <td>[6081, 14787, 40198, 438, 5815, 5816, 4184]</td>\n",
       "    </tr>\n",
       "    <tr>\n",
       "      <th>1</th>\n",
       "      <td>BBID_20470035</td>\n",
       "      <td>[6081, 2406, 2408, 2731, 5816, 5815, 2424, 2104]</td>\n",
       "    </tr>\n",
       "    <tr>\n",
       "      <th>2</th>\n",
       "      <td>BBID_211419396</td>\n",
       "      <td>[6081, 13444, 2120, 5450, 13965, 5816, 5815, 2...</td>\n",
       "    </tr>\n",
       "    <tr>\n",
       "      <th>3</th>\n",
       "      <td>BBID_211411290</td>\n",
       "      <td>[1504, 6081, 353, 2690, 2424, 13215, 11434, 13...</td>\n",
       "    </tr>\n",
       "    <tr>\n",
       "      <th>4</th>\n",
       "      <td>BBID_20450592</td>\n",
       "      <td>[None, None, None, None, None, None, None, Non...</td>\n",
       "    </tr>\n",
       "  </tbody>\n",
       "</table>\n",
       "</div>"
      ],
      "text/plain": [
       "       customerID                                           products\n",
       "0  BBID_204107517        [6081, 14787, 40198, 438, 5815, 5816, 4184]\n",
       "1   BBID_20470035   [6081, 2406, 2408, 2731, 5816, 5815, 2424, 2104]\n",
       "2  BBID_211419396  [6081, 13444, 2120, 5450, 13965, 5816, 5815, 2...\n",
       "3  BBID_211411290  [1504, 6081, 353, 2690, 2424, 13215, 11434, 13...\n",
       "4   BBID_20450592  [None, None, None, None, None, None, None, Non..."
      ]
     },
     "execution_count": 30,
     "metadata": {},
     "output_type": "execute_result"
    }
   ],
   "source": [
    "submission.head()"
   ]
  },
  {
   "cell_type": "code",
   "execution_count": 31,
   "metadata": {
    "collapsed": true,
    "deletable": true,
    "editable": true
   },
   "outputs": [],
   "source": [
    "product_codes_inv = list(lbl2.inverse_transform(product_codes))\n",
    "product_maps = dict(zip(list(product_codes), list(product_codes_inv)))"
   ]
  },
  {
   "cell_type": "code",
   "execution_count": 32,
   "metadata": {
    "collapsed": true,
    "deletable": true,
    "editable": true
   },
   "outputs": [],
   "source": [
    "submission['products'] = submission['products'].map(lambda x: [product_maps.get(s) for s in x])"
   ]
  },
  {
   "cell_type": "code",
   "execution_count": 33,
   "metadata": {
    "collapsed": true,
    "deletable": true,
    "editable": true
   },
   "outputs": [],
   "source": [
    "for index, row in submission.iterrows():\n",
    "    max_len = 20\n",
    "    if len(row['products']) < max_len:\n",
    "        size = len(row['products'])\n",
    "        diff_ = max_len - size\n",
    "        a = row['products']\n",
    "        a.extend(np.repeat('None', diff_))\n",
    "        submission.loc[index, 'products'] = a\n",
    "    else:\n",
    "        submission.loc[index, 'products'] = row['products'][:20]"
   ]
  },
  {
   "cell_type": "code",
   "execution_count": 34,
   "metadata": {
    "collapsed": true,
    "deletable": true,
    "editable": true
   },
   "outputs": [],
   "source": [
    "submission['products'] = submission['products'].map(lambda x: ','.join(str(e) for e in x))"
   ]
  },
  {
   "cell_type": "code",
   "execution_count": 35,
   "metadata": {
    "collapsed": false,
    "deletable": true,
    "editable": true
   },
   "outputs": [
    {
     "data": {
      "text/html": [
       "<div>\n",
       "<style>\n",
       "    .dataframe thead tr:only-child th {\n",
       "        text-align: right;\n",
       "    }\n",
       "\n",
       "    .dataframe thead th {\n",
       "        text-align: left;\n",
       "    }\n",
       "\n",
       "    .dataframe tbody tr th {\n",
       "        vertical-align: top;\n",
       "    }\n",
       "</style>\n",
       "<table border=\"1\" class=\"dataframe\">\n",
       "  <thead>\n",
       "    <tr style=\"text-align: right;\">\n",
       "      <th></th>\n",
       "      <th>customerID</th>\n",
       "      <th>products</th>\n",
       "    </tr>\n",
       "  </thead>\n",
       "  <tbody>\n",
       "    <tr>\n",
       "      <th>0</th>\n",
       "      <td>BBID_204107517</td>\n",
       "      <td>300840018,1000681171,1000697272004,108001127,3...</td>\n",
       "    </tr>\n",
       "    <tr>\n",
       "      <th>1</th>\n",
       "      <td>BBID_20470035</td>\n",
       "      <td>300840018,108037499,108037501,108100362,300776...</td>\n",
       "    </tr>\n",
       "    <tr>\n",
       "      <th>2</th>\n",
       "      <td>BBID_211419396</td>\n",
       "      <td>300840018,1000588265,108030315,300676075,10006...</td>\n",
       "    </tr>\n",
       "    <tr>\n",
       "      <th>3</th>\n",
       "      <td>BBID_211411290</td>\n",
       "      <td>108020718,300840018,108000707,108100296,108037...</td>\n",
       "    </tr>\n",
       "    <tr>\n",
       "      <th>4</th>\n",
       "      <td>BBID_20450592</td>\n",
       "      <td>None,None,None,None,None,None,None,None,None,N...</td>\n",
       "    </tr>\n",
       "  </tbody>\n",
       "</table>\n",
       "</div>"
      ],
      "text/plain": [
       "       customerID                                           products\n",
       "0  BBID_204107517  300840018,1000681171,1000697272004,108001127,3...\n",
       "1   BBID_20470035  300840018,108037499,108037501,108100362,300776...\n",
       "2  BBID_211419396  300840018,1000588265,108030315,300676075,10006...\n",
       "3  BBID_211411290  108020718,300840018,108000707,108100296,108037...\n",
       "4   BBID_20450592  None,None,None,None,None,None,None,None,None,N..."
      ]
     },
     "execution_count": 35,
     "metadata": {},
     "output_type": "execute_result"
    }
   ],
   "source": [
    "submission.head()"
   ]
  },
  {
   "cell_type": "code",
   "execution_count": 36,
   "metadata": {
    "collapsed": true,
    "deletable": true,
    "editable": true
   },
   "outputs": [],
   "source": [
    "submission.to_csv('sub_0001.csv', index=False)"
   ]
  },
  {
   "cell_type": "code",
   "execution_count": null,
   "metadata": {
    "collapsed": true,
    "deletable": true,
    "editable": true
   },
   "outputs": [],
   "source": []
  }
 ],
 "metadata": {
  "kernelspec": {
   "display_name": "Python 3",
   "language": "python",
   "name": "python3"
  },
  "language_info": {
   "codemirror_mode": {
    "name": "ipython",
    "version": 3
   },
   "file_extension": ".py",
   "mimetype": "text/x-python",
   "name": "python",
   "nbconvert_exporter": "python",
   "pygments_lexer": "ipython3",
   "version": "3.5.3"
  }
 },
 "nbformat": 4,
 "nbformat_minor": 2
}

{
 "cells": [
  {
   "cell_type": "markdown",
   "metadata": {
    "collapsed": true
   },
   "source": [
    "## Based on All Events data categorising users into grades like A,B..."
   ]
  },
  {
   "cell_type": "code",
   "execution_count": 2,
   "metadata": {
    "collapsed": true
   },
   "outputs": [],
   "source": [
    "import pandas as pd\n",
    "import matplotlib.pyplot as plt\n",
    "import matplotlib\n",
    "matplotlib.style.use('ggplot')"
   ]
  },
  {
   "cell_type": "code",
   "execution_count": 3,
   "metadata": {
    "collapsed": false
   },
   "outputs": [],
   "source": [
    "# LOad data from CSV file and selecting particular columns which are useful.\n",
    "data=pd.read_csv('All_Events.csv',usecols=['distinct_id','properties.package_name','properties.package_variant_name',\n",
    "                                                                        'properties.price','properties.$city', 'properties.id', \n",
    "'properties.$email','properties.products.0.name', 'properties.products.0.price']\n",
    "  )"
   ]
  },
  {
   "cell_type": "code",
   "execution_count": 4,
   "metadata": {
    "collapsed": false
   },
   "outputs": [
    {
     "data": {
      "text/html": [
       "<div>\n",
       "<table border=\"1\" class=\"dataframe\">\n",
       "  <thead>\n",
       "    <tr style=\"text-align: right;\">\n",
       "      <th></th>\n",
       "      <th>distinct_id</th>\n",
       "      <th>properties.$city</th>\n",
       "      <th>properties.id</th>\n",
       "      <th>properties.package_name</th>\n",
       "      <th>properties.package_variant_name</th>\n",
       "      <th>properties.price</th>\n",
       "      <th>properties.products.0.name</th>\n",
       "      <th>properties.products.0.price</th>\n",
       "      <th>properties.$email</th>\n",
       "    </tr>\n",
       "  </thead>\n",
       "  <tbody>\n",
       "    <tr>\n",
       "      <th>0</th>\n",
       "      <td>ed360733-30cf-46ae-b57f-07c786221661</td>\n",
       "      <td>Mumbai</td>\n",
       "      <td>343</td>\n",
       "      <td>The Lounger - Basic</td>\n",
       "      <td>basic</td>\n",
       "      <td>1200</td>\n",
       "      <td>NaN</td>\n",
       "      <td>NaN</td>\n",
       "      <td>NaN</td>\n",
       "    </tr>\n",
       "    <tr>\n",
       "      <th>1</th>\n",
       "      <td>ed360733-30cf-46ae-b57f-07c786221661</td>\n",
       "      <td>Mumbai</td>\n",
       "      <td>129</td>\n",
       "      <td>Vive Twin Single-Seater - Basic</td>\n",
       "      <td>basic</td>\n",
       "      <td>999</td>\n",
       "      <td>NaN</td>\n",
       "      <td>NaN</td>\n",
       "      <td>NaN</td>\n",
       "    </tr>\n",
       "    <tr>\n",
       "      <th>2</th>\n",
       "      <td>e611802e-b965-4288-bd2e-b3ca42b85ed1</td>\n",
       "      <td>Mumbai</td>\n",
       "      <td>127</td>\n",
       "      <td>Vitello Study Room</td>\n",
       "      <td>basic</td>\n",
       "      <td>999</td>\n",
       "      <td>NaN</td>\n",
       "      <td>NaN</td>\n",
       "      <td>NaN</td>\n",
       "    </tr>\n",
       "    <tr>\n",
       "      <th>3</th>\n",
       "      <td>49365a22-25fe-43ce-86ed-c144b7384af9</td>\n",
       "      <td>Mumbai</td>\n",
       "      <td>411</td>\n",
       "      <td>Twin Wardrobe Combo</td>\n",
       "      <td>basic</td>\n",
       "      <td>1250</td>\n",
       "      <td>NaN</td>\n",
       "      <td>NaN</td>\n",
       "      <td>NaN</td>\n",
       "    </tr>\n",
       "    <tr>\n",
       "      <th>4</th>\n",
       "      <td>49365a22-25fe-43ce-86ed-c144b7384af9</td>\n",
       "      <td>Mumbai</td>\n",
       "      <td>411</td>\n",
       "      <td>Twin Wardrobe Combo</td>\n",
       "      <td>basic</td>\n",
       "      <td>1250</td>\n",
       "      <td>NaN</td>\n",
       "      <td>NaN</td>\n",
       "      <td>NaN</td>\n",
       "    </tr>\n",
       "  </tbody>\n",
       "</table>\n",
       "</div>"
      ],
      "text/plain": [
       "                            distinct_id properties.$city  properties.id  \\\n",
       "0  ed360733-30cf-46ae-b57f-07c786221661           Mumbai            343   \n",
       "1  ed360733-30cf-46ae-b57f-07c786221661           Mumbai            129   \n",
       "2  e611802e-b965-4288-bd2e-b3ca42b85ed1           Mumbai            127   \n",
       "3  49365a22-25fe-43ce-86ed-c144b7384af9           Mumbai            411   \n",
       "4  49365a22-25fe-43ce-86ed-c144b7384af9           Mumbai            411   \n",
       "\n",
       "           properties.package_name properties.package_variant_name  \\\n",
       "0              The Lounger - Basic                           basic   \n",
       "1  Vive Twin Single-Seater - Basic                           basic   \n",
       "2               Vitello Study Room                           basic   \n",
       "3              Twin Wardrobe Combo                           basic   \n",
       "4              Twin Wardrobe Combo                           basic   \n",
       "\n",
       "   properties.price properties.products.0.name  properties.products.0.price  \\\n",
       "0              1200                        NaN                          NaN   \n",
       "1               999                        NaN                          NaN   \n",
       "2               999                        NaN                          NaN   \n",
       "3              1250                        NaN                          NaN   \n",
       "4              1250                        NaN                          NaN   \n",
       "\n",
       "  properties.$email  \n",
       "0               NaN  \n",
       "1               NaN  \n",
       "2               NaN  \n",
       "3               NaN  \n",
       "4               NaN  "
      ]
     },
     "execution_count": 4,
     "metadata": {},
     "output_type": "execute_result"
    }
   ],
   "source": [
    "data.head()"
   ]
  },
  {
   "cell_type": "code",
   "execution_count": 4,
   "metadata": {
    "collapsed": false
   },
   "outputs": [
    {
     "data": {
      "text/plain": [
       "properties.$city  properties.package_variant_name\n",
       "Alegaon           basic                              6599.000000\n",
       "Alwar             basic                              1050.000000\n",
       "Anand             basic                              1900.000000\n",
       "Atlanta           value                              1350.000000\n",
       "Aurangabad        value                              2650.000000\n",
       "Baipura           basic                              4999.000000\n",
       "Bengaluru         basic                              1619.991189\n",
       "                  prime                              1568.136364\n",
       "                  value                              1687.722222\n",
       "Bhandup           value                              2999.000000\n",
       "Bhiwani           value                              3500.000000\n",
       "Bhopal            basic                              2250.000000\n",
       "Bikaner           basic                              1900.000000\n",
       "Blue Bell         basic                              1250.000000\n",
       "Chennai           basic                              1499.000000\n",
       "                  prime                              1250.000000\n",
       "                  value                              1550.000000\n",
       "Delhi             basic                              1718.388889\n",
       "                  prime                              1858.166667\n",
       "                  value                              1564.700000\n",
       "Dharwad           basic                              1999.000000\n",
       "Dubai             basic                              1962.250000\n",
       "                  value                              1500.000000\n",
       "Dungarpur         basic                              1250.000000\n",
       "Ghaziabad         basic                              1316.666667\n",
       "Gurgaon           basic                              1654.090909\n",
       "                  value                              1400.000000\n",
       "Hubli             basic                              2250.000000\n",
       "Hyderabad         basic                              2899.333333\n",
       "Jabalpur          basic                              1749.000000\n",
       "                                                        ...     \n",
       "Kolkata           basic                              1414.400000\n",
       "                  value                               999.000000\n",
       "Lucknow           basic                              1200.000000\n",
       "Lynchburg         value                               999.000000\n",
       "Madipakkam        value                              1399.000000\n",
       "Mira Road         basic                              2499.000000\n",
       "Mohali            basic                              1200.000000\n",
       "                  value                              1450.000000\n",
       "Mumbai            basic                              1593.828571\n",
       "                  prime                              1487.250000\n",
       "                  value                              1811.230769\n",
       "Najafgarh         basic                               650.000000\n",
       "New Delhi         basic                              1832.944444\n",
       "                  prime                              1075.000000\n",
       "                  value                              1199.500000\n",
       "Noida             basic                              1574.375000\n",
       "                  value                              1599.000000\n",
       "Patna             basic                              1350.000000\n",
       "Phoenix           basic                              1200.000000\n",
       "Pune              basic                              1879.409091\n",
       "                  value                              1907.578947\n",
       "Raipur            basic                              6599.000000\n",
       "Rohtak            basic                              1050.000000\n",
       "San Jose          basic                              1875.000000\n",
       "Thane             basic                              1766.166667\n",
       "                  value                              1932.333333\n",
       "Udaipur           basic                               999.000000\n",
       "Ulhasnagar        basic                              2000.000000\n",
       "Varanasi          basic                              1149.333333\n",
       "Visakhapatnam     basic                              1099.000000\n",
       "Name: properties.price, dtype: float64"
      ]
     },
     "execution_count": 4,
     "metadata": {},
     "output_type": "execute_result"
    }
   ],
   "source": [
    "data.groupby(['properties.$city','properties.package_variant_name'])['properties.price'].mean()\n",
    "# city wise different property mean price table"
   ]
  },
  {
   "cell_type": "code",
   "execution_count": 6,
   "metadata": {
    "collapsed": false
   },
   "outputs": [],
   "source": [
    "\n",
    "freq=pd.DataFrame(data.distinct_id.value_counts().values,columns=['count'])\n",
    "freq['id']=data.distinct_id.value_counts().keys()"
   ]
  },
  {
   "cell_type": "code",
   "execution_count": 7,
   "metadata": {
    "collapsed": false
   },
   "outputs": [
    {
     "name": "stdout",
     "output_type": "stream",
     "text": [
      "25\n",
      "1\n",
      "1.6899383983572895\n"
     ]
    }
   ],
   "source": [
    "print(max(freq['count']))#highest frequency\n",
    "print(min(freq['count']))#lowest frquency\n",
    "print(freq['count'].mean())#frequency count\n",
    "freq['Group']=''"
   ]
  },
  {
   "cell_type": "markdown",
   "metadata": {},
   "source": [
    "### Grouping the frequency count userwise and allocating grades ot them"
   ]
  },
  {
   "cell_type": "code",
   "execution_count": 10,
   "metadata": {
    "collapsed": false
   },
   "outputs": [
    {
     "name": "stderr",
     "output_type": "stream",
     "text": [
      "C:\\Users\\SIDDHARTH\\Anaconda3\\lib\\site-packages\\ipykernel\\__main__.py:2: SettingWithCopyWarning: \n",
      "A value is trying to be set on a copy of a slice from a DataFrame\n",
      "\n",
      "See the caveats in the documentation: http://pandas.pydata.org/pandas-docs/stable/indexing.html#indexing-view-versus-copy\n",
      "  from ipykernel import kernelapp as app\n",
      "C:\\Users\\SIDDHARTH\\Anaconda3\\lib\\site-packages\\ipykernel\\__main__.py:3: SettingWithCopyWarning: \n",
      "A value is trying to be set on a copy of a slice from a DataFrame\n",
      "\n",
      "See the caveats in the documentation: http://pandas.pydata.org/pandas-docs/stable/indexing.html#indexing-view-versus-copy\n",
      "  app.launch_new_instance()\n",
      "C:\\Users\\SIDDHARTH\\Anaconda3\\lib\\site-packages\\ipykernel\\__main__.py:4: SettingWithCopyWarning: \n",
      "A value is trying to be set on a copy of a slice from a DataFrame\n",
      "\n",
      "See the caveats in the documentation: http://pandas.pydata.org/pandas-docs/stable/indexing.html#indexing-view-versus-copy\n",
      "C:\\Users\\SIDDHARTH\\Anaconda3\\lib\\site-packages\\ipykernel\\__main__.py:5: SettingWithCopyWarning: \n",
      "A value is trying to be set on a copy of a slice from a DataFrame\n",
      "\n",
      "See the caveats in the documentation: http://pandas.pydata.org/pandas-docs/stable/indexing.html#indexing-view-versus-copy\n",
      "C:\\Users\\SIDDHARTH\\Anaconda3\\lib\\site-packages\\ipykernel\\__main__.py:6: SettingWithCopyWarning: \n",
      "A value is trying to be set on a copy of a slice from a DataFrame\n",
      "\n",
      "See the caveats in the documentation: http://pandas.pydata.org/pandas-docs/stable/indexing.html#indexing-view-versus-copy\n"
     ]
    }
   ],
   "source": [
    "\n",
    "freq['Group'][(freq['count'] > 20)]  = 'A'\n",
    "freq['Group'][(freq['count'] > 15) & (freq['count'] <= 20)] = 'B'\n",
    "freq['Group'][(freq['count'] > 10) & (freq['count'] <= 15)] = 'C'\n",
    "freq['Group'][(freq['count'] > 5) & (freq['count'] <= 10)] = 'D'\n",
    "freq['Group'][(freq['count'] <= 5)]  = 'E'"
   ]
  },
  {
   "cell_type": "markdown",
   "metadata": {},
   "source": [
    "### Total number of clusters formed in each grades"
   ]
  },
  {
   "cell_type": "code",
   "execution_count": 11,
   "metadata": {
    "collapsed": false
   },
   "outputs": [
    {
     "data": {
      "text/plain": [
       "E    469\n",
       "D     13\n",
       "C      3\n",
       "A      1\n",
       "B      1\n",
       "Name: Group, dtype: int64"
      ]
     },
     "execution_count": 11,
     "metadata": {},
     "output_type": "execute_result"
    }
   ],
   "source": [
    "freq.Group.value_counts()"
   ]
  },
  {
   "cell_type": "code",
   "execution_count": 12,
   "metadata": {
    "collapsed": false
   },
   "outputs": [
    {
     "data": {
      "text/html": [
       "<div>\n",
       "<table border=\"1\" class=\"dataframe\">\n",
       "  <thead>\n",
       "    <tr style=\"text-align: right;\">\n",
       "      <th></th>\n",
       "      <th>count</th>\n",
       "      <th>id</th>\n",
       "      <th>Group</th>\n",
       "    </tr>\n",
       "  </thead>\n",
       "  <tbody>\n",
       "    <tr>\n",
       "      <th>0</th>\n",
       "      <td>25</td>\n",
       "      <td>c41f109e-106d-41ef-8657-cce9278949fa</td>\n",
       "      <td>A</td>\n",
       "    </tr>\n",
       "    <tr>\n",
       "      <th>1</th>\n",
       "      <td>19</td>\n",
       "      <td>6646</td>\n",
       "      <td>B</td>\n",
       "    </tr>\n",
       "    <tr>\n",
       "      <th>2</th>\n",
       "      <td>14</td>\n",
       "      <td>049fcdf0-04d0-45eb-869b-4f76753bbd54</td>\n",
       "      <td>C</td>\n",
       "    </tr>\n",
       "    <tr>\n",
       "      <th>3</th>\n",
       "      <td>13</td>\n",
       "      <td>9fb3a0e8-33b5-459f-91a9-bdbe3fc8e324</td>\n",
       "      <td>C</td>\n",
       "    </tr>\n",
       "    <tr>\n",
       "      <th>4</th>\n",
       "      <td>11</td>\n",
       "      <td>8594</td>\n",
       "      <td>C</td>\n",
       "    </tr>\n",
       "  </tbody>\n",
       "</table>\n",
       "</div>"
      ],
      "text/plain": [
       "   count                                    id Group\n",
       "0     25  c41f109e-106d-41ef-8657-cce9278949fa     A\n",
       "1     19                                  6646     B\n",
       "2     14  049fcdf0-04d0-45eb-869b-4f76753bbd54     C\n",
       "3     13  9fb3a0e8-33b5-459f-91a9-bdbe3fc8e324     C\n",
       "4     11                                  8594     C"
      ]
     },
     "execution_count": 12,
     "metadata": {},
     "output_type": "execute_result"
    }
   ],
   "source": [
    "freq.head()"
   ]
  },
  {
   "cell_type": "code",
   "execution_count": 10,
   "metadata": {
    "collapsed": false
   },
   "outputs": [],
   "source": [
    "#save to the csv file\n",
    "freq.to_csv('customer_freq_grade.csv',index=False)"
   ]
  }
 ],
 "metadata": {
  "anaconda-cloud": {},
  "kernelspec": {
   "display_name": "Python 3",
   "language": "python",
   "name": "python3"
  },
  "language_info": {
   "codemirror_mode": {
    "name": "ipython",
    "version": 3
   },
   "file_extension": ".py",
   "mimetype": "text/x-python",
   "name": "python",
   "nbconvert_exporter": "python",
   "pygments_lexer": "ipython3",
   "version": "3.5.3"
  }
 },
 "nbformat": 4,
 "nbformat_minor": 0
}

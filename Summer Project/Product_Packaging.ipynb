{
 "cells": [
  {
   "cell_type": "markdown",
   "metadata": {
    "collapsed": true
   },
   "source": [
    "## Product_Packaging based on the transactional data"
   ]
  },
  {
   "cell_type": "code",
   "execution_count": 14,
   "metadata": {
    "collapsed": true
   },
   "outputs": [],
   "source": [
    "import numpy as np\n",
    "import scipy as sc\n",
    "from pandas import Series,DataFrame\n",
    "import pandas as pd\n",
    "\n",
    "import matplotlib.pyplot as plt\n",
    "import matplotlib as mpl\n",
    "import seaborn as sns\n",
    "\n",
    "from collections import OrderedDict\n",
    "from fractions import Fraction\n",
    "\n",
    "get_ipython().magic(u'matplotlib inline')\n",
    "mpl.rcParams['figure.figsize'] = (10.0, 5)"
   ]
  },
  {
   "cell_type": "code",
   "execution_count": 15,
   "metadata": {
    "collapsed": true
   },
   "outputs": [],
   "source": [
    "def plot_matrix(matrix):\n",
    "    fig = plt.figure()\n",
    "    ax = fig.add_subplot(111)\n",
    "    cax = ax.matshow(matrix, interpolation='nearest')\n",
    "    fig.colorbar(cax)\n",
    "\n"
   ]
  },
  {
   "cell_type": "markdown",
   "metadata": {},
   "source": [
    "### Selcting  some random products from the CSV file and apply the ML algorithm on it."
   ]
  },
  {
   "cell_type": "code",
   "execution_count": 4,
   "metadata": {
    "collapsed": false
   },
   "outputs": [
    {
     "data": {
      "text/html": [
       "<div>\n",
       "<table border=\"1\" class=\"dataframe\">\n",
       "  <thead>\n",
       "    <tr style=\"text-align: right;\">\n",
       "      <th></th>\n",
       "      <th>Pico Single Bed- Premium</th>\n",
       "      <th>Pod for Entertainment</th>\n",
       "      <th>The Infinity Wardrobe - Basic</th>\n",
       "      <th>Mili Four Seater Dining Table Package</th>\n",
       "      <th>Vitello Single Studio</th>\n",
       "      <th>TV washing machine combo</th>\n",
       "      <th>The Reading Nook - Value</th>\n",
       "    </tr>\n",
       "  </thead>\n",
       "  <tbody>\n",
       "    <tr>\n",
       "      <th>0</th>\n",
       "      <td>0</td>\n",
       "      <td>0</td>\n",
       "      <td>3</td>\n",
       "      <td>0</td>\n",
       "      <td>0</td>\n",
       "      <td>2</td>\n",
       "      <td>1</td>\n",
       "    </tr>\n",
       "    <tr>\n",
       "      <th>1</th>\n",
       "      <td>0</td>\n",
       "      <td>0</td>\n",
       "      <td>4</td>\n",
       "      <td>0</td>\n",
       "      <td>0</td>\n",
       "      <td>2</td>\n",
       "      <td>0</td>\n",
       "    </tr>\n",
       "    <tr>\n",
       "      <th>2</th>\n",
       "      <td>1</td>\n",
       "      <td>0</td>\n",
       "      <td>1</td>\n",
       "      <td>0</td>\n",
       "      <td>0</td>\n",
       "      <td>4</td>\n",
       "      <td>0</td>\n",
       "    </tr>\n",
       "    <tr>\n",
       "      <th>3</th>\n",
       "      <td>0</td>\n",
       "      <td>1</td>\n",
       "      <td>1</td>\n",
       "      <td>0</td>\n",
       "      <td>0</td>\n",
       "      <td>1</td>\n",
       "      <td>0</td>\n",
       "    </tr>\n",
       "    <tr>\n",
       "      <th>4</th>\n",
       "      <td>0</td>\n",
       "      <td>1</td>\n",
       "      <td>1</td>\n",
       "      <td>0</td>\n",
       "      <td>0</td>\n",
       "      <td>1</td>\n",
       "      <td>0</td>\n",
       "    </tr>\n",
       "    <tr>\n",
       "      <th>5</th>\n",
       "      <td>0</td>\n",
       "      <td>1</td>\n",
       "      <td>3</td>\n",
       "      <td>0</td>\n",
       "      <td>0</td>\n",
       "      <td>2</td>\n",
       "      <td>0</td>\n",
       "    </tr>\n",
       "    <tr>\n",
       "      <th>6</th>\n",
       "      <td>0</td>\n",
       "      <td>1</td>\n",
       "      <td>2</td>\n",
       "      <td>0</td>\n",
       "      <td>0</td>\n",
       "      <td>2</td>\n",
       "      <td>0</td>\n",
       "    </tr>\n",
       "    <tr>\n",
       "      <th>7</th>\n",
       "      <td>0</td>\n",
       "      <td>2</td>\n",
       "      <td>2</td>\n",
       "      <td>0</td>\n",
       "      <td>0</td>\n",
       "      <td>2</td>\n",
       "      <td>0</td>\n",
       "    </tr>\n",
       "    <tr>\n",
       "      <th>8</th>\n",
       "      <td>0</td>\n",
       "      <td>1</td>\n",
       "      <td>0</td>\n",
       "      <td>0</td>\n",
       "      <td>0</td>\n",
       "      <td>0</td>\n",
       "      <td>0</td>\n",
       "    </tr>\n",
       "    <tr>\n",
       "      <th>9</th>\n",
       "      <td>0</td>\n",
       "      <td>1</td>\n",
       "      <td>1</td>\n",
       "      <td>0</td>\n",
       "      <td>0</td>\n",
       "      <td>1</td>\n",
       "      <td>0</td>\n",
       "    </tr>\n",
       "    <tr>\n",
       "      <th>10</th>\n",
       "      <td>0</td>\n",
       "      <td>0</td>\n",
       "      <td>0</td>\n",
       "      <td>0</td>\n",
       "      <td>0</td>\n",
       "      <td>1</td>\n",
       "      <td>0</td>\n",
       "    </tr>\n",
       "    <tr>\n",
       "      <th>11</th>\n",
       "      <td>0</td>\n",
       "      <td>0</td>\n",
       "      <td>0</td>\n",
       "      <td>0</td>\n",
       "      <td>0</td>\n",
       "      <td>1</td>\n",
       "      <td>0</td>\n",
       "    </tr>\n",
       "    <tr>\n",
       "      <th>12</th>\n",
       "      <td>0</td>\n",
       "      <td>0</td>\n",
       "      <td>1</td>\n",
       "      <td>0</td>\n",
       "      <td>0</td>\n",
       "      <td>0</td>\n",
       "      <td>1</td>\n",
       "    </tr>\n",
       "    <tr>\n",
       "      <th>13</th>\n",
       "      <td>0</td>\n",
       "      <td>0</td>\n",
       "      <td>1</td>\n",
       "      <td>0</td>\n",
       "      <td>0</td>\n",
       "      <td>0</td>\n",
       "      <td>0</td>\n",
       "    </tr>\n",
       "    <tr>\n",
       "      <th>14</th>\n",
       "      <td>1</td>\n",
       "      <td>1</td>\n",
       "      <td>7</td>\n",
       "      <td>0</td>\n",
       "      <td>0</td>\n",
       "      <td>0</td>\n",
       "      <td>0</td>\n",
       "    </tr>\n",
       "    <tr>\n",
       "      <th>15</th>\n",
       "      <td>0</td>\n",
       "      <td>2</td>\n",
       "      <td>1</td>\n",
       "      <td>0</td>\n",
       "      <td>0</td>\n",
       "      <td>2</td>\n",
       "      <td>0</td>\n",
       "    </tr>\n",
       "    <tr>\n",
       "      <th>16</th>\n",
       "      <td>1</td>\n",
       "      <td>0</td>\n",
       "      <td>2</td>\n",
       "      <td>0</td>\n",
       "      <td>0</td>\n",
       "      <td>3</td>\n",
       "      <td>0</td>\n",
       "    </tr>\n",
       "    <tr>\n",
       "      <th>17</th>\n",
       "      <td>0</td>\n",
       "      <td>0</td>\n",
       "      <td>0</td>\n",
       "      <td>0</td>\n",
       "      <td>0</td>\n",
       "      <td>4</td>\n",
       "      <td>0</td>\n",
       "    </tr>\n",
       "    <tr>\n",
       "      <th>18</th>\n",
       "      <td>0</td>\n",
       "      <td>0</td>\n",
       "      <td>3</td>\n",
       "      <td>0</td>\n",
       "      <td>0</td>\n",
       "      <td>1</td>\n",
       "      <td>0</td>\n",
       "    </tr>\n",
       "    <tr>\n",
       "      <th>19</th>\n",
       "      <td>0</td>\n",
       "      <td>1</td>\n",
       "      <td>0</td>\n",
       "      <td>0</td>\n",
       "      <td>0</td>\n",
       "      <td>1</td>\n",
       "      <td>0</td>\n",
       "    </tr>\n",
       "    <tr>\n",
       "      <th>20</th>\n",
       "      <td>0</td>\n",
       "      <td>1</td>\n",
       "      <td>0</td>\n",
       "      <td>1</td>\n",
       "      <td>0</td>\n",
       "      <td>3</td>\n",
       "      <td>0</td>\n",
       "    </tr>\n",
       "    <tr>\n",
       "      <th>21</th>\n",
       "      <td>0</td>\n",
       "      <td>1</td>\n",
       "      <td>1</td>\n",
       "      <td>0</td>\n",
       "      <td>3</td>\n",
       "      <td>3</td>\n",
       "      <td>0</td>\n",
       "    </tr>\n",
       "    <tr>\n",
       "      <th>22</th>\n",
       "      <td>0</td>\n",
       "      <td>0</td>\n",
       "      <td>0</td>\n",
       "      <td>0</td>\n",
       "      <td>0</td>\n",
       "      <td>0</td>\n",
       "      <td>0</td>\n",
       "    </tr>\n",
       "    <tr>\n",
       "      <th>23</th>\n",
       "      <td>0</td>\n",
       "      <td>1</td>\n",
       "      <td>2</td>\n",
       "      <td>0</td>\n",
       "      <td>0</td>\n",
       "      <td>1</td>\n",
       "      <td>0</td>\n",
       "    </tr>\n",
       "    <tr>\n",
       "      <th>24</th>\n",
       "      <td>0</td>\n",
       "      <td>2</td>\n",
       "      <td>3</td>\n",
       "      <td>0</td>\n",
       "      <td>0</td>\n",
       "      <td>1</td>\n",
       "      <td>0</td>\n",
       "    </tr>\n",
       "    <tr>\n",
       "      <th>25</th>\n",
       "      <td>0</td>\n",
       "      <td>1</td>\n",
       "      <td>1</td>\n",
       "      <td>0</td>\n",
       "      <td>0</td>\n",
       "      <td>1</td>\n",
       "      <td>1</td>\n",
       "    </tr>\n",
       "    <tr>\n",
       "      <th>26</th>\n",
       "      <td>0</td>\n",
       "      <td>4</td>\n",
       "      <td>2</td>\n",
       "      <td>0</td>\n",
       "      <td>0</td>\n",
       "      <td>4</td>\n",
       "      <td>0</td>\n",
       "    </tr>\n",
       "    <tr>\n",
       "      <th>27</th>\n",
       "      <td>0</td>\n",
       "      <td>2</td>\n",
       "      <td>1</td>\n",
       "      <td>0</td>\n",
       "      <td>0</td>\n",
       "      <td>0</td>\n",
       "      <td>0</td>\n",
       "    </tr>\n",
       "    <tr>\n",
       "      <th>28</th>\n",
       "      <td>2</td>\n",
       "      <td>2</td>\n",
       "      <td>5</td>\n",
       "      <td>0</td>\n",
       "      <td>0</td>\n",
       "      <td>0</td>\n",
       "      <td>0</td>\n",
       "    </tr>\n",
       "    <tr>\n",
       "      <th>29</th>\n",
       "      <td>1</td>\n",
       "      <td>1</td>\n",
       "      <td>0</td>\n",
       "      <td>0</td>\n",
       "      <td>0</td>\n",
       "      <td>1</td>\n",
       "      <td>0</td>\n",
       "    </tr>\n",
       "  </tbody>\n",
       "</table>\n",
       "</div>"
      ],
      "text/plain": [
       "    Pico Single Bed- Premium  Pod for Entertainment  \\\n",
       "0                          0                      0   \n",
       "1                          0                      0   \n",
       "2                          1                      0   \n",
       "3                          0                      1   \n",
       "4                          0                      1   \n",
       "5                          0                      1   \n",
       "6                          0                      1   \n",
       "7                          0                      2   \n",
       "8                          0                      1   \n",
       "9                          0                      1   \n",
       "10                         0                      0   \n",
       "11                         0                      0   \n",
       "12                         0                      0   \n",
       "13                         0                      0   \n",
       "14                         1                      1   \n",
       "15                         0                      2   \n",
       "16                         1                      0   \n",
       "17                         0                      0   \n",
       "18                         0                      0   \n",
       "19                         0                      1   \n",
       "20                         0                      1   \n",
       "21                         0                      1   \n",
       "22                         0                      0   \n",
       "23                         0                      1   \n",
       "24                         0                      2   \n",
       "25                         0                      1   \n",
       "26                         0                      4   \n",
       "27                         0                      2   \n",
       "28                         2                      2   \n",
       "29                         1                      1   \n",
       "\n",
       "    The Infinity Wardrobe - Basic  Mili Four Seater Dining Table Package  \\\n",
       "0                               3                                      0   \n",
       "1                               4                                      0   \n",
       "2                               1                                      0   \n",
       "3                               1                                      0   \n",
       "4                               1                                      0   \n",
       "5                               3                                      0   \n",
       "6                               2                                      0   \n",
       "7                               2                                      0   \n",
       "8                               0                                      0   \n",
       "9                               1                                      0   \n",
       "10                              0                                      0   \n",
       "11                              0                                      0   \n",
       "12                              1                                      0   \n",
       "13                              1                                      0   \n",
       "14                              7                                      0   \n",
       "15                              1                                      0   \n",
       "16                              2                                      0   \n",
       "17                              0                                      0   \n",
       "18                              3                                      0   \n",
       "19                              0                                      0   \n",
       "20                              0                                      1   \n",
       "21                              1                                      0   \n",
       "22                              0                                      0   \n",
       "23                              2                                      0   \n",
       "24                              3                                      0   \n",
       "25                              1                                      0   \n",
       "26                              2                                      0   \n",
       "27                              1                                      0   \n",
       "28                              5                                      0   \n",
       "29                              0                                      0   \n",
       "\n",
       "    Vitello Single Studio  TV washing machine combo  The Reading Nook - Value  \n",
       "0                       0                         2                         1  \n",
       "1                       0                         2                         0  \n",
       "2                       0                         4                         0  \n",
       "3                       0                         1                         0  \n",
       "4                       0                         1                         0  \n",
       "5                       0                         2                         0  \n",
       "6                       0                         2                         0  \n",
       "7                       0                         2                         0  \n",
       "8                       0                         0                         0  \n",
       "9                       0                         1                         0  \n",
       "10                      0                         1                         0  \n",
       "11                      0                         1                         0  \n",
       "12                      0                         0                         1  \n",
       "13                      0                         0                         0  \n",
       "14                      0                         0                         0  \n",
       "15                      0                         2                         0  \n",
       "16                      0                         3                         0  \n",
       "17                      0                         4                         0  \n",
       "18                      0                         1                         0  \n",
       "19                      0                         1                         0  \n",
       "20                      0                         3                         0  \n",
       "21                      3                         3                         0  \n",
       "22                      0                         0                         0  \n",
       "23                      0                         1                         0  \n",
       "24                      0                         1                         0  \n",
       "25                      0                         1                         1  \n",
       "26                      0                         4                         0  \n",
       "27                      0                         0                         0  \n",
       "28                      0                         0                         0  \n",
       "29                      0                         1                         0  "
      ]
     },
     "execution_count": 4,
     "metadata": {},
     "output_type": "execute_result"
    }
   ],
   "source": [
    "                              \n",
    "transaction_df =  pd.read_csv(\"add_cart.csv\", skipinitialspace=True,usecols=['Pod for Entertainment','The Infinity Wardrobe - Basic',\n",
    "                                                                                            'Pico Single Bed- Premium','Vitello Single Studio' ,\n",
    "                                                                                             'The Reading Nook - Value','TV washing machine combo',\n",
    "                            'Mili Four Seater Dining Table Package'] )\n",
    "#index_col=[0,1]\n",
    "transaction_df\n"
   ]
  },
  {
   "cell_type": "code",
   "execution_count": 5,
   "metadata": {
    "collapsed": false
   },
   "outputs": [
    {
     "data": {
      "text/plain": [
       "<matplotlib.axes._subplots.AxesSubplot at 0x2b3be8a9c18>"
      ]
     },
     "execution_count": 5,
     "metadata": {},
     "output_type": "execute_result"
    },
    {
     "data": {
      "image/png": "[encoded data removed]",
      "text/plain": [
       "<matplotlib.figure.Figure at 0x2b3b9e58e80>"
      ]
     },
     "metadata": {},
     "output_type": "display_data"
    }
   ],
   "source": [
    "# calculate support for every product in all transactions\n",
    "product_support_dict = {}\n",
    "for column in transaction_df.columns:\n",
    "    product_support_dict[column] = sum(transaction_df[column]>0)\n",
    "    \n",
    "# visualise support\n",
    "pd.Series(product_support_dict).plot(kind=\"bar\")\n",
    "\n"
   ]
  },
  {
   "cell_type": "code",
   "execution_count": 6,
   "metadata": {
    "collapsed": false
   },
   "outputs": [
    {
     "data": {
      "text/plain": [
       "array([[0, 0, 3, 0, 0, 2, 1],\n",
       "       [0, 0, 4, 0, 0, 2, 0],\n",
       "       [1, 0, 1, 0, 0, 4, 0],\n",
       "       [0, 1, 1, 0, 0, 1, 0],\n",
       "       [0, 1, 1, 0, 0, 1, 0],\n",
       "       [0, 1, 3, 0, 0, 2, 0],\n",
       "       [0, 1, 2, 0, 0, 2, 0],\n",
       "       [0, 2, 2, 0, 0, 2, 0],\n",
       "       [0, 1, 0, 0, 0, 0, 0],\n",
       "       [0, 1, 1, 0, 0, 1, 0],\n",
       "       [0, 0, 0, 0, 0, 1, 0],\n",
       "       [0, 0, 0, 0, 0, 1, 0],\n",
       "       [0, 0, 1, 0, 0, 0, 1],\n",
       "       [0, 0, 1, 0, 0, 0, 0],\n",
       "       [1, 1, 7, 0, 0, 0, 0],\n",
       "       [0, 2, 1, 0, 0, 2, 0],\n",
       "       [1, 0, 2, 0, 0, 3, 0],\n",
       "       [0, 0, 0, 0, 0, 4, 0],\n",
       "       [0, 0, 3, 0, 0, 1, 0],\n",
       "       [0, 1, 0, 0, 0, 1, 0],\n",
       "       [0, 1, 0, 1, 0, 3, 0],\n",
       "       [0, 1, 1, 0, 3, 3, 0],\n",
       "       [0, 0, 0, 0, 0, 0, 0],\n",
       "       [0, 1, 2, 0, 0, 1, 0],\n",
       "       [0, 2, 3, 0, 0, 1, 0],\n",
       "       [0, 1, 1, 0, 0, 1, 1],\n",
       "       [0, 4, 2, 0, 0, 4, 0],\n",
       "       [0, 2, 1, 0, 0, 0, 0],\n",
       "       [2, 2, 5, 0, 0, 0, 0],\n",
       "       [1, 1, 0, 0, 0, 1, 0]], dtype=int64)"
      ]
     },
     "execution_count": 6,
     "metadata": {},
     "output_type": "execute_result"
    }
   ],
   "source": [
    "\n",
    "transaction_matrix = transaction_df.as_matrix()\n",
    "transaction_matrix"
   ]
  },
  {
   "cell_type": "code",
   "execution_count": 16,
   "metadata": {
    "collapsed": false
   },
   "outputs": [
    {
     "data": {
      "text/plain": [
       "array([[False, False,  True, False, False,  True,  True],\n",
       "       [False, False,  True, False, False,  True, False],\n",
       "       [ True, False,  True, False, False,  True, False],\n",
       "       [False,  True,  True, False, False,  True, False],\n",
       "       [False,  True,  True, False, False,  True, False],\n",
       "       [False,  True,  True, False, False,  True, False],\n",
       "       [False,  True,  True, False, False,  True, False],\n",
       "       [False,  True,  True, False, False,  True, False],\n",
       "       [False,  True, False, False, False, False, False],\n",
       "       [False,  True,  True, False, False,  True, False],\n",
       "       [False, False, False, False, False,  True, False],\n",
       "       [False, False, False, False, False,  True, False],\n",
       "       [False, False,  True, False, False, False,  True],\n",
       "       [False, False,  True, False, False, False, False],\n",
       "       [ True,  True,  True, False, False, False, False],\n",
       "       [False,  True,  True, False, False,  True, False],\n",
       "       [ True, False,  True, False, False,  True, False],\n",
       "       [False, False, False, False, False,  True, False],\n",
       "       [False, False,  True, False, False,  True, False],\n",
       "       [False,  True, False, False, False,  True, False],\n",
       "       [False,  True, False,  True, False,  True, False],\n",
       "       [False,  True,  True, False,  True,  True, False],\n",
       "       [False, False, False, False, False, False, False],\n",
       "       [False,  True,  True, False, False,  True, False],\n",
       "       [False,  True,  True, False, False,  True, False],\n",
       "       [False,  True,  True, False, False,  True,  True],\n",
       "       [False,  True,  True, False, False,  True, False],\n",
       "       [False,  True,  True, False, False, False, False],\n",
       "       [ True,  True,  True, False, False, False, False],\n",
       "       [ True,  True, False, False, False,  True, False]], dtype=bool)"
      ]
     },
     "execution_count": 16,
     "metadata": {},
     "output_type": "execute_result"
    }
   ],
   "source": [
    "#converting datsets into boolean form\n",
    "bool_index = (transaction_matrix>0)\n",
    "bool_index\n"
   ]
  },
  {
   "cell_type": "code",
   "execution_count": 8,
   "metadata": {
    "collapsed": false
   },
   "outputs": [
    {
     "data": {
      "image/png": "[encoded data removed]",
      "text/plain": [
       "<matplotlib.figure.Figure at 0x2b3b9e83128>"
      ]
     },
     "metadata": {},
     "output_type": "display_data"
    }
   ],
   "source": [
    "\n",
    "plot_matrix(transaction_matrix)\n"
   ]
  },
  {
   "cell_type": "code",
   "execution_count": 9,
   "metadata": {
    "collapsed": false
   },
   "outputs": [
    {
     "name": "stdout",
     "output_type": "stream",
     "text": [
      "this: 0 : Pico Single Bed- Premium\n",
      "\tnext: 1 : Pod for Entertainment\n",
      "\t 3\n",
      "\tnext: 2 : The Infinity Wardrobe - Basic\n",
      "\t 4\n",
      "\tnext: 3 : Mili Four Seater Dining Table Package\n",
      "\t 0\n",
      "\tnext: 4 : Vitello Single Studio\n",
      "\t 0\n",
      "\tnext: 5 : TV washing machine combo\n",
      "\t 3\n",
      "\tnext: 6 : The Reading Nook - Value\n",
      "\t 0\n",
      "this: 1 : Pod for Entertainment\n",
      "\tnext: 2 : The Infinity Wardrobe - Basic\n",
      "\t 15\n",
      "\tnext: 3 : Mili Four Seater Dining Table Package\n",
      "\t 1\n",
      "\tnext: 4 : Vitello Single Studio\n",
      "\t 1\n",
      "\tnext: 5 : TV washing machine combo\n",
      "\t 15\n",
      "\tnext: 6 : The Reading Nook - Value\n",
      "\t 1\n",
      "this: 2 : The Infinity Wardrobe - Basic\n",
      "\tnext: 3 : Mili Four Seater Dining Table Package\n",
      "\t 0\n",
      "\tnext: 4 : Vitello Single Studio\n",
      "\t 1\n",
      "\tnext: 5 : TV washing machine combo\n",
      "\t 17\n",
      "\tnext: 6 : The Reading Nook - Value\n",
      "\t 3\n",
      "this: 3 : Mili Four Seater Dining Table Package\n",
      "\tnext: 4 : Vitello Single Studio\n",
      "\t 0\n",
      "\tnext: 5 : TV washing machine combo\n",
      "\t 1\n",
      "\tnext: 6 : The Reading Nook - Value\n",
      "\t 0\n",
      "this: 4 : Vitello Single Studio\n",
      "\tnext: 5 : TV washing machine combo\n",
      "\t 1\n",
      "\tnext: 6 : The Reading Nook - Value\n",
      "\t 0\n",
      "this: 5 : TV washing machine combo\n",
      "\tnext: 6 : The Reading Nook - Value\n",
      "\t 2\n"
     ]
    }
   ],
   "source": [
    "# get number of rows and columns\n",
    "rows, columns = transaction_matrix.shape\n",
    "# init new matrix\n",
    "frequent_items_matrix = np.zeros((5,5))\n",
    "# compare every product with every other\n",
    "for this_column in range(0, columns-1):\n",
    "    print (\"this:\", this_column,\":\",transaction_df.columns[this_column])\n",
    "    for next_column in range(this_column + 1, columns):\n",
    "        print (\"\\tnext:\", next_column,\":\",transaction_df.columns[next_column])\n",
    "        # multiply product pair vectors\n",
    "        product_vector = transaction_matrix[:,this_column] * transaction_matrix[:,next_column]\n",
    "        # check the number of pair occurrences in baskets\n",
    "        count_matches = sum((product_vector)>0)\n",
    "        print (\"\\t\", count_matches)\n",
    "        # save values to new matrix\n",
    "\n"
   ]
  },
  {
   "cell_type": "code",
   "execution_count": null,
   "metadata": {
    "collapsed": false
   },
   "outputs": [],
   "source": [
    "\n"
   ]
  },
  {
   "cell_type": "code",
   "execution_count": 10,
   "metadata": {
    "collapsed": false
   },
   "outputs": [
    {
     "data": {
      "image/png": "[encoded data removed]",
      "text/plain": [
       "<matplotlib.figure.Figure at 0x2b3bf509e10>"
      ]
     },
     "metadata": {},
     "output_type": "display_data"
    }
   ],
   "source": [
    "# take data matrix from dataframe\n",
    "transaction_matrix = transaction_df.as_matrix()\n",
    "# get number of rows and columns\n",
    "rows, columns = transaction_matrix.shape\n",
    "# init new matrix\n",
    "frequent_items_matrix = np.zeros((7,7))\n",
    "# compare every product with every other\n",
    "for this_column in range(0, columns-1):\n",
    "    for next_column in range(this_column + 1, columns):\n",
    "        # multiply product pair vectors\n",
    "        product_vector = transaction_matrix[:,this_column] * transaction_matrix[:,next_column]\n",
    "        # check the number of pair occurrences in baskets\n",
    "        count_matches = sum((product_vector)>0)\n",
    "        # save values to new matrix\n",
    "        frequent_items_matrix[this_column,next_column] = count_matches\n",
    " \n",
    "\n",
    "plot_matrix(frequent_items_matrix)"
   ]
  },
  {
   "cell_type": "code",
   "execution_count": 11,
   "metadata": {
    "collapsed": false
   },
   "outputs": [
    {
     "data": {
      "text/plain": [
       "<matplotlib.axes._subplots.AxesSubplot at 0x2b3bf318748>"
      ]
     },
     "execution_count": 11,
     "metadata": {},
     "output_type": "execute_result"
    },
    {
     "data": {
      "image/png": "[encoded data removed]",
      "text/plain": [
       "<matplotlib.figure.Figure at 0x2b3bf50c898>"
      ]
     },
     "metadata": {},
     "output_type": "display_data"
    }
   ],
   "source": [
    "#print (frequent_items_matrix) \n",
    "# combine matrix with names\n",
    "frequent_items_df = pd.DataFrame(frequent_items_matrix, columns = transaction_df.columns.values, index = transaction_df.columns.values)\n",
    "sns.heatmap(frequent_items_df)\n"
   ]
  },
  {
   "cell_type": "code",
   "execution_count": 12,
   "metadata": {
    "collapsed": true
   },
   "outputs": [],
   "source": [
    "product_names = transaction_df.columns.values\n"
   ]
  },
  {
   "cell_type": "code",
   "execution_count": 13,
   "metadata": {
    "collapsed": false
   },
   "outputs": [
    {
     "data": {
      "image/png": "[encoded data removed]",
      "text/plain": [
       "<matplotlib.figure.Figure at 0x2b3bf4668d0>"
      ]
     },
     "metadata": {},
     "output_type": "display_data"
    }
   ],
   "source": [
    "# extract product pairs with minimum frequency(treshold) basket occurrences\n",
    "def extract_pairs(treshold):\n",
    "    output = {}\n",
    "    # select indexes with larger or equal n\n",
    "    matrix_coord_list = np.where(frequent_items_matrix >= treshold)\n",
    "    # take values\n",
    "    row_coords = matrix_coord_list[0]\n",
    "    column_coords = matrix_coord_list[1]\n",
    "    # generate pairs\n",
    "    for index, value in enumerate(row_coords):\n",
    "        #print index\n",
    "        row = row_coords[index]\n",
    "        column = column_coords[index]\n",
    "        # get product names\n",
    "        first_product = product_names[row]\n",
    "        second_product = product_names[column]\n",
    "        # number of basket matches\n",
    "        matches = frequent_items_matrix[row,column]\n",
    "        # put key values into dict\n",
    "        output[first_product+\"-\"+second_product] = matches\n",
    "    \n",
    "    # return sorted dict\n",
    "    sorted_output = OrderedDict(sorted(output.items(), key=lambda x: x[1]))\n",
    "    return sorted_output\n",
    "    \n",
    "# plot pairs with minimum frequency of 2 basket matches\n",
    "min_frequency = 1\n",
    "ax = pd.Series(extract_pairs(min_frequency)).plot(kind=\"barh\", title=\"Frequent Pairs with Frequency >= \" + str(min_frequency))\n"
   ]
  }
 ],
 "metadata": {
  "kernelspec": {
   "display_name": "Python 3",
   "language": "python",
   "name": "python3"
  },
  "language_info": {
   "codemirror_mode": {
    "name": "ipython",
    "version": 3
   },
   "file_extension": ".py",
   "mimetype": "text/x-python",
   "name": "python",
   "nbconvert_exporter": "python",
   "pygments_lexer": "ipython3",
   "version": "3.5.3"
  }
 },
 "nbformat": 4,
 "nbformat_minor": 0
}

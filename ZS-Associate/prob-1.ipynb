{
 "cells": [
  {
   "cell_type": "code",
   "execution_count": 5,
   "metadata": {
    "collapsed": true,
    "deletable": true,
    "editable": true
   },
   "outputs": [],
   "source": [
    "import numpy as np\n",
    "import pandas as pd\n"
   ]
  },
  {
   "cell_type": "code",
   "execution_count": 6,
   "metadata": {
    "collapsed": true,
    "deletable": true,
    "editable": true
   },
   "outputs": [],
   "source": [
    "train = pd.read_csv(\"train.csv\")\n",
    "test = pd.read_csv(\"test.csv\")"
   ]
  },
  {
   "cell_type": "code",
   "execution_count": 15,
   "metadata": {
    "collapsed": false,
    "deletable": true,
    "editable": true
   },
   "outputs": [],
   "source": [
    "train_dcast = pd.crosstab(index=[train['PID']], columns=train['Event'])\n",
    "train_dcast.reset_index(drop=False, inplace=True)"
   ]
  },
  {
   "cell_type": "code",
   "execution_count": 16,
   "metadata": {
    "collapsed": false,
    "deletable": true,
    "editable": true
   },
   "outputs": [
    {
     "data": {
      "text/html": [
       "<div>\n",
       "<table border=\"1\" class=\"dataframe\">\n",
       "  <thead>\n",
       "    <tr style=\"text-align: right;\">\n",
       "      <th>Event</th>\n",
       "      <th>PID</th>\n",
       "      <th>0001</th>\n",
       "      <th>0010</th>\n",
       "      <th>0014</th>\n",
       "      <th>0030</th>\n",
       "      <th>0042</th>\n",
       "      <th>0059</th>\n",
       "      <th>0066</th>\n",
       "      <th>0085</th>\n",
       "      <th>0088</th>\n",
       "      <th>...</th>\n",
       "      <th>V870</th>\n",
       "      <th>V872</th>\n",
       "      <th>V873</th>\n",
       "      <th>V874</th>\n",
       "      <th>V880</th>\n",
       "      <th>V890</th>\n",
       "      <th>V901</th>\n",
       "      <th>V908</th>\n",
       "      <th>V909</th>\n",
       "      <th>V910</th>\n",
       "    </tr>\n",
       "  </thead>\n",
       "  <tbody>\n",
       "    <tr>\n",
       "      <th>0</th>\n",
       "      <td>1000001</td>\n",
       "      <td>0</td>\n",
       "      <td>0</td>\n",
       "      <td>0</td>\n",
       "      <td>0</td>\n",
       "      <td>0</td>\n",
       "      <td>0</td>\n",
       "      <td>0</td>\n",
       "      <td>0</td>\n",
       "      <td>0</td>\n",
       "      <td>...</td>\n",
       "      <td>0</td>\n",
       "      <td>0</td>\n",
       "      <td>0</td>\n",
       "      <td>0</td>\n",
       "      <td>0</td>\n",
       "      <td>0</td>\n",
       "      <td>0</td>\n",
       "      <td>0</td>\n",
       "      <td>0</td>\n",
       "      <td>0</td>\n",
       "    </tr>\n",
       "    <tr>\n",
       "      <th>1</th>\n",
       "      <td>1000011</td>\n",
       "      <td>0</td>\n",
       "      <td>0</td>\n",
       "      <td>0</td>\n",
       "      <td>0</td>\n",
       "      <td>0</td>\n",
       "      <td>0</td>\n",
       "      <td>0</td>\n",
       "      <td>0</td>\n",
       "      <td>0</td>\n",
       "      <td>...</td>\n",
       "      <td>0</td>\n",
       "      <td>0</td>\n",
       "      <td>0</td>\n",
       "      <td>0</td>\n",
       "      <td>0</td>\n",
       "      <td>0</td>\n",
       "      <td>0</td>\n",
       "      <td>0</td>\n",
       "      <td>0</td>\n",
       "      <td>0</td>\n",
       "    </tr>\n",
       "    <tr>\n",
       "      <th>2</th>\n",
       "      <td>1000019</td>\n",
       "      <td>0</td>\n",
       "      <td>0</td>\n",
       "      <td>0</td>\n",
       "      <td>0</td>\n",
       "      <td>0</td>\n",
       "      <td>0</td>\n",
       "      <td>0</td>\n",
       "      <td>0</td>\n",
       "      <td>0</td>\n",
       "      <td>...</td>\n",
       "      <td>0</td>\n",
       "      <td>0</td>\n",
       "      <td>0</td>\n",
       "      <td>0</td>\n",
       "      <td>0</td>\n",
       "      <td>1</td>\n",
       "      <td>0</td>\n",
       "      <td>0</td>\n",
       "      <td>0</td>\n",
       "      <td>0</td>\n",
       "    </tr>\n",
       "    <tr>\n",
       "      <th>3</th>\n",
       "      <td>1000025</td>\n",
       "      <td>0</td>\n",
       "      <td>0</td>\n",
       "      <td>0</td>\n",
       "      <td>0</td>\n",
       "      <td>0</td>\n",
       "      <td>0</td>\n",
       "      <td>0</td>\n",
       "      <td>0</td>\n",
       "      <td>0</td>\n",
       "      <td>...</td>\n",
       "      <td>0</td>\n",
       "      <td>0</td>\n",
       "      <td>0</td>\n",
       "      <td>0</td>\n",
       "      <td>0</td>\n",
       "      <td>0</td>\n",
       "      <td>0</td>\n",
       "      <td>0</td>\n",
       "      <td>0</td>\n",
       "      <td>0</td>\n",
       "    </tr>\n",
       "    <tr>\n",
       "      <th>4</th>\n",
       "      <td>1000029</td>\n",
       "      <td>0</td>\n",
       "      <td>0</td>\n",
       "      <td>0</td>\n",
       "      <td>0</td>\n",
       "      <td>0</td>\n",
       "      <td>0</td>\n",
       "      <td>0</td>\n",
       "      <td>0</td>\n",
       "      <td>0</td>\n",
       "      <td>...</td>\n",
       "      <td>0</td>\n",
       "      <td>0</td>\n",
       "      <td>0</td>\n",
       "      <td>0</td>\n",
       "      <td>0</td>\n",
       "      <td>0</td>\n",
       "      <td>0</td>\n",
       "      <td>0</td>\n",
       "      <td>0</td>\n",
       "      <td>0</td>\n",
       "    </tr>\n",
       "  </tbody>\n",
       "</table>\n",
       "<p>5 rows × 6473 columns</p>\n",
       "</div>"
      ],
      "text/plain": [
       "Event      PID  0001  0010  0014  0030  0042  0059  0066  0085  0088  ...   \\\n",
       "0      1000001     0     0     0     0     0     0     0     0     0  ...    \n",
       "1      1000011     0     0     0     0     0     0     0     0     0  ...    \n",
       "2      1000019     0     0     0     0     0     0     0     0     0  ...    \n",
       "3      1000025     0     0     0     0     0     0     0     0     0  ...    \n",
       "4      1000029     0     0     0     0     0     0     0     0     0  ...    \n",
       "\n",
       "Event  V870  V872  V873  V874  V880  V890  V901  V908  V909  V910  \n",
       "0         0     0     0     0     0     0     0     0     0     0  \n",
       "1         0     0     0     0     0     0     0     0     0     0  \n",
       "2         0     0     0     0     0     1     0     0     0     0  \n",
       "3         0     0     0     0     0     0     0     0     0     0  \n",
       "4         0     0     0     0     0     0     0     0     0     0  \n",
       "\n",
       "[5 rows x 6473 columns]"
      ]
     },
     "execution_count": 16,
     "metadata": {},
     "output_type": "execute_result"
    }
   ],
   "source": [
    "train_dcast.head()"
   ]
  },
  {
   "cell_type": "code",
   "execution_count": null,
   "metadata": {
    "collapsed": false,
    "deletable": true,
    "editable": true
   },
   "outputs": [],
   "source": []
  },
  {
   "cell_type": "code",
   "execution_count": 21,
   "metadata": {
    "collapsed": true,
    "deletable": true,
    "editable": true
   },
   "outputs": [],
   "source": [
    "submit = train_dcast.loc[:,train_dcast.columns != 'PID'].apply(lambda x: pd.Series(x.sort_values(ascending=False).iloc[:10].index, index=['Event'+str(x) for x in range(1,11)]),axis=1).reset_index()\n",
    "submit.drop('index',inplace=True, axis=1)"
   ]
  },
  {
   "cell_type": "code",
   "execution_count": 22,
   "metadata": {
    "collapsed": true,
    "deletable": true,
    "editable": true
   },
   "outputs": [],
   "source": [
    "# setting column names in sequence\n",
    "submit['PID'] = train_dcast['PID']\n",
    "cols = submit.columns.tolist()\n",
    "cols = cols[-1:] + cols[:-1]\n",
    "submit = submit[cols]"
   ]
  },
  {
   "cell_type": "code",
   "execution_count": 23,
   "metadata": {
    "collapsed": false,
    "deletable": true,
    "editable": true
   },
   "outputs": [
    {
     "data": {
      "text/plain": [
       "Index(['PID', 'Date', 'Event'], dtype='object')"
      ]
     },
     "execution_count": 23,
     "metadata": {},
     "output_type": "execute_result"
    }
   ],
   "source": [
    "train.columns\n"
   ]
  },
  {
   "cell_type": "code",
   "execution_count": 24,
   "metadata": {
    "collapsed": false,
    "deletable": true,
    "editable": true
   },
   "outputs": [
    {
     "data": {
      "text/html": [
       "<div>\n",
       "<table border=\"1\" class=\"dataframe\">\n",
       "  <thead>\n",
       "    <tr style=\"text-align: right;\">\n",
       "      <th></th>\n",
       "      <th>PID</th>\n",
       "      <th>Event1</th>\n",
       "      <th>Event2</th>\n",
       "      <th>Event3</th>\n",
       "      <th>Event4</th>\n",
       "      <th>Event5</th>\n",
       "      <th>Event6</th>\n",
       "      <th>Event7</th>\n",
       "      <th>Event8</th>\n",
       "      <th>Event9</th>\n",
       "      <th>Event10</th>\n",
       "    </tr>\n",
       "  </thead>\n",
       "  <tbody>\n",
       "    <tr>\n",
       "      <th>0</th>\n",
       "      <td>1000001</td>\n",
       "      <td>3074</td>\n",
       "      <td>3263</td>\n",
       "      <td>2533</td>\n",
       "      <td>2632</td>\n",
       "      <td>2178</td>\n",
       "      <td>3041</td>\n",
       "      <td>9921</td>\n",
       "      <td>3272</td>\n",
       "      <td>3016</td>\n",
       "      <td>2582</td>\n",
       "    </tr>\n",
       "    <tr>\n",
       "      <th>1</th>\n",
       "      <td>1000011</td>\n",
       "      <td>9921</td>\n",
       "      <td>3106</td>\n",
       "      <td>8470</td>\n",
       "      <td>8100</td>\n",
       "      <td>9928</td>\n",
       "      <td>8502</td>\n",
       "      <td>2335</td>\n",
       "      <td>9711</td>\n",
       "      <td>7231</td>\n",
       "      <td>4097</td>\n",
       "    </tr>\n",
       "    <tr>\n",
       "      <th>2</th>\n",
       "      <td>1000019</td>\n",
       "      <td>7682</td>\n",
       "      <td>9928</td>\n",
       "      <td>7681</td>\n",
       "      <td>7680</td>\n",
       "      <td>6558</td>\n",
       "      <td>V283</td>\n",
       "      <td>7194</td>\n",
       "      <td>9920</td>\n",
       "      <td>6522</td>\n",
       "      <td>V270</td>\n",
       "    </tr>\n",
       "    <tr>\n",
       "      <th>3</th>\n",
       "      <td>1000025</td>\n",
       "      <td>3254</td>\n",
       "      <td>3641</td>\n",
       "      <td>2635</td>\n",
       "      <td>2674</td>\n",
       "      <td>3419</td>\n",
       "      <td>3410</td>\n",
       "      <td>5852</td>\n",
       "      <td>8444</td>\n",
       "      <td>9921</td>\n",
       "      <td>8443</td>\n",
       "    </tr>\n",
       "    <tr>\n",
       "      <th>4</th>\n",
       "      <td>1000029</td>\n",
       "      <td>2533</td>\n",
       "      <td>2773</td>\n",
       "      <td>3638</td>\n",
       "      <td>9921</td>\n",
       "      <td>4011</td>\n",
       "      <td>3051</td>\n",
       "      <td>8830</td>\n",
       "      <td>7373</td>\n",
       "      <td>3616</td>\n",
       "      <td>V723</td>\n",
       "    </tr>\n",
       "  </tbody>\n",
       "</table>\n",
       "</div>"
      ],
      "text/plain": [
       "       PID Event1 Event2 Event3 Event4 Event5 Event6 Event7 Event8 Event9  \\\n",
       "0  1000001   3074   3263   2533   2632   2178   3041   9921   3272   3016   \n",
       "1  1000011   9921   3106   8470   8100   9928   8502   2335   9711   7231   \n",
       "2  1000019   7682   9928   7681   7680   6558   V283   7194   9920   6522   \n",
       "3  1000025   3254   3641   2635   2674   3419   3410   5852   8444   9921   \n",
       "4  1000029   2533   2773   3638   9921   4011   3051   8830   7373   3616   \n",
       "\n",
       "  Event10  \n",
       "0    2582  \n",
       "1    4097  \n",
       "2    V270  \n",
       "3    8443  \n",
       "4    V723  "
      ]
     },
     "execution_count": 24,
     "metadata": {},
     "output_type": "execute_result"
    }
   ],
   "source": [
    "\n",
    "submit.head()"
   ]
  },
  {
   "cell_type": "code",
   "execution_count": 25,
   "metadata": {
    "collapsed": true,
    "deletable": true,
    "editable": true
   },
   "outputs": [],
   "source": [
    "# final submission\n",
    "submit.to_csv(\"first_sub1.csv\", index=False)"
   ]
  },
  {
   "cell_type": "code",
   "execution_count": null,
   "metadata": {
    "collapsed": true,
    "deletable": true,
    "editable": true
   },
   "outputs": [],
   "source": []
  }
 ],
 "metadata": {
  "kernelspec": {
   "display_name": "Python 3",
   "language": "python",
   "name": "python3"
  },
  "language_info": {
   "codemirror_mode": {
    "name": "ipython",
    "version": 3
   },
   "file_extension": ".py",
   "mimetype": "text/x-python",
   "name": "python",
   "nbconvert_exporter": "python",
   "pygments_lexer": "ipython3",
   "version": "3.5.3"
  }
 },
 "nbformat": 4,
 "nbformat_minor": 0
}
